{
 "cells": [
  {
   "cell_type": "code",
   "execution_count": 1,
   "metadata": {},
   "outputs": [
    {
     "name": "stderr",
     "output_type": "stream",
     "text": [
      "Matplotlib is building the font cache; this may take a moment.\n"
     ]
    }
   ],
   "source": [
    "import numpy as np\n",
    "import matplotlib.pyplot as plt"
   ]
  },
  {
   "cell_type": "markdown",
   "metadata": {},
   "source": [
    "## Load Data"
   ]
  },
  {
   "cell_type": "code",
   "execution_count": 14,
   "metadata": {},
   "outputs": [],
   "source": [
    "training_data = [] # Features per class\n",
    "training_labels = [] # Labels\n",
    "N = 5250\n",
    "\n",
    "with open(\"traindata.txt\", \"r\") as file:\n",
    "    for line in file.readlines()[:N]:\n",
    "        features = [float(i) for i in line.split(\",\")]\n",
    "        training_data.append(features)\n",
    "\n",
    "\n",
    "# Import the labels\n",
    "with open(\"trainlabels.txt\", \"r\") as file:\n",
    "    for line in file.readlines()[:N]:\n",
    "        label = float(line.rstrip())\n",
    "        training_labels.append(label)\n",
    "    \n",
    "\n",
    "X = np.array(training_data)\n",
    "y = np.array(training_labels, dtype=np.int64)"
   ]
  },
  {
   "cell_type": "code",
   "execution_count": 15,
   "metadata": {},
   "outputs": [
    {
     "name": "stdout",
     "output_type": "stream",
     "text": [
      "(5250, 1041) (5250,)\n"
     ]
    }
   ],
   "source": [
    "print(X.shape, y.shape)"
   ]
  },
  {
   "cell_type": "code",
   "execution_count": 16,
   "metadata": {},
   "outputs": [],
   "source": [
    "def calculate_std(data, mean):\n",
    "    squared_diff = (data - mean) ** 2\n",
    "    return np.sqrt(np.mean(squared_diff))"
   ]
  },
  {
   "cell_type": "code",
   "execution_count": 17,
   "metadata": {},
   "outputs": [],
   "source": [
    "def generate_feature_cover(X, std_tol = 500):\n",
    "    x_mean = np.mean(X, axis = 0)\n",
    "    x_std = np.mean(X, axis = 0)\n",
    "    feature_cover = np.zeros(len(x_mean), dtype = bool)\n",
    "\n",
    "    for i in range(len(x_mean)):\n",
    "        if np.abs(x_std[i]) > std_tol:\n",
    "            feature_cover[i] = True    \n",
    "\n",
    "    return feature_cover"
   ]
  },
  {
   "cell_type": "markdown",
   "metadata": {},
   "source": [
    "Clean & Augment Data"
   ]
  },
  {
   "cell_type": "code",
   "execution_count": 18,
   "metadata": {},
   "outputs": [],
   "source": [
    "def create_labels_data(X, y):\n",
    "    labels_data = {i:[] for i in np.unique(y)}\n",
    "\n",
    "    for index, label in enumerate(y):\n",
    "        labels_data[label].append(X[index])\n",
    "\n",
    "    return labels_data\n"
   ]
  },
  {
   "cell_type": "code",
   "execution_count": 19,
   "metadata": {},
   "outputs": [
    {
     "name": "stdout",
     "output_type": "stream",
     "text": [
      "(5250, 1041)\n",
      "\n",
      "Class: 0\n",
      "(225, 1041)\n",
      "(225, 1041)\n",
      "\n",
      "Class: 1\n",
      "(244, 1041)\n",
      "(244, 1041)\n",
      "\n",
      "Class: 2\n",
      "(226, 1041)\n",
      "(226, 1041)\n",
      "\n",
      "Class: 3\n",
      "(254, 1041)\n",
      "(254, 1041)\n",
      "\n",
      "Class: 4\n",
      "(249, 1041)\n",
      "(249, 1041)\n",
      "\n",
      "Class: 5\n",
      "(257, 1041)\n",
      "(257, 1041)\n",
      "\n",
      "Class: 6\n",
      "(246, 1041)\n",
      "(246, 1041)\n",
      "\n",
      "Class: 7\n",
      "(269, 1041)\n",
      "(269, 1041)\n",
      "\n",
      "Class: 8\n",
      "(226, 1041)\n",
      "(226, 1041)\n",
      "\n",
      "Class: 9\n",
      "(242, 1041)\n",
      "(242, 1041)\n",
      "\n",
      "Class: 10\n",
      "(251, 1041)\n",
      "(251, 1041)\n",
      "\n",
      "Class: 11\n",
      "(251, 1041)\n",
      "(251, 1041)\n",
      "\n",
      "Class: 12\n",
      "(258, 1041)\n",
      "(258, 1041)\n",
      "\n",
      "Class: 13\n",
      "(265, 1041)\n",
      "(265, 1041)\n",
      "\n",
      "Class: 14\n",
      "(282, 1041)\n",
      "(282, 1041)\n",
      "\n",
      "Class: 15\n",
      "(255, 1041)\n",
      "(255, 1041)\n",
      "\n",
      "Class: 16\n",
      "(252, 1041)\n",
      "(252, 1041)\n",
      "\n",
      "Class: 17\n",
      "(249, 1041)\n",
      "(249, 1041)\n",
      "\n",
      "Class: 18\n",
      "(234, 1041)\n",
      "(234, 1041)\n",
      "\n",
      "Class: 19\n",
      "(256, 1041)\n",
      "(256, 1041)\n",
      "\n",
      "Class: 20\n",
      "(259, 1041)\n",
      "(259, 1041)\n"
     ]
    }
   ],
   "source": [
    "feature_cover = generate_feature_cover(X, 1000)\n",
    "x = X[:] # 400 * 30 array\n",
    "\n",
    "print(x.shape)\n",
    "\n",
    "labels_data = create_labels_data(x, y)\n",
    "labels_median = {i:[] for i in range(21)}\n",
    "\n",
    "for label in range(21):\n",
    "    labels_data[label] = np.array(labels_data[label])\n",
    "    \n",
    "    print(f\"\\nClass: {label}\")\n",
    "    print(labels_data[label].shape)\n",
    "    X_cleaned = []\n",
    "\n",
    "    median = np.median(labels_data[label], axis=0)\n",
    "    std = np.array([calculate_std(labels_data[label][:, i], median[i]) for i in range(median.shape[0])])\n",
    "\n",
    "    labels_median[label] = median\n",
    "\n",
    "    for row in labels_data[label]:\n",
    "        is_outlier = False\n",
    "\n",
    "        # for i, value in enumerate(row):\n",
    "        #     if value < (median[i] - 2.5 * std[i]) or value > (median[i] + 2.5 * std[i]):\n",
    "        #         is_outlier = True\n",
    "        #         break\n",
    "\n",
    "        if not is_outlier:\n",
    "            X_cleaned.append(row)\n",
    "\n",
    "    labels_data[label] = np.array(X_cleaned)\n",
    "\n",
    "    print(labels_data[label].shape)\n"
   ]
  },
  {
   "cell_type": "code",
   "execution_count": 20,
   "metadata": {},
   "outputs": [],
   "source": [
    "colors = [\n",
    "    'blue', 'green', 'red', 'cyan', 'magenta', 'yellow', 'black', 'white',\n",
    "    'navy', 'darkgreen', 'darkred', 'darkcyan', 'darkmagenta', 'goldenrod', \n",
    "    'gray', 'lightgray', 'darkgray', 'orange', 'purple', 'pink', 'brown'\n",
    "]\n",
    "\n",
    "\n",
    "def plot_save(labels_data, rows=26, cols=40, name=\"\"):\n",
    "    for label in range(21):\n",
    "        fig, ax = plt.subplots(rows, cols, figsize=(100, 80))\n",
    "\n",
    "        for i in range(rows):\n",
    "            for j in range(cols):\n",
    "                feature = i * cols + j\n",
    "                \n",
    "                if labels_data[label].shape[0] > 0 and labels_data[label][0].size > feature:\n",
    "                    all_values_for_feature = np.concatenate([data[feature:feature+1] for data in labels_data[label] if feature < data.size])\n",
    "                    ax[i, j].hist(all_values_for_feature, bins=\"auto\", color=colors[label])\n",
    "                    ax[i, j].set_title(f\"Feature: {feature}\")\n",
    "                    \n",
    "                    # Calculate and display the mean as a line\n",
    "                    mean_value = np.mean(all_values_for_feature)\n",
    "                    ax[i, j].axvline(x=mean_value, color='g', linestyle='-', label=f\"Mean: {mean_value:.2f}\")\n",
    "                    \n",
    "                    # Calculate and display the median as a line\n",
    "                    median_value = labels_median[label][feature]\n",
    "                    ax[i, j].axvline(x=median_value, color='r', linestyle='--', label=f\"Median: {median_value:.2f}\")\n",
    "                    \n",
    "                else:\n",
    "                    ax[i, j].set_visible(False)\n",
    "        plt.savefig(f\"./feature_plots/label_{label}_plot{name}\")\n",
    "        plt.close(fig)"
   ]
  },
  {
   "cell_type": "code",
   "execution_count": null,
   "metadata": {},
   "outputs": [],
   "source": [
    "plot_save(labels_data, name=\"_normal\")"
   ]
  },
  {
   "cell_type": "code",
   "execution_count": 12,
   "metadata": {},
   "outputs": [
    {
     "name": "stdout",
     "output_type": "stream",
     "text": [
      "(5250, 1041)\n",
      "(5250,)\n",
      "(5922, 1041)\n",
      "(5922,)\n"
     ]
    }
   ],
   "source": [
    "from imblearn.over_sampling import SMOTENC\n",
    "\n",
    "new_X = labels_data[0]\n",
    "new_y = [0] * labels_data[0].shape[0]\n",
    "\n",
    "for i in range(1, len(labels_data)):\n",
    "    new_X = np.vstack([new_X, labels_data[i]])\n",
    "    new_y += [i] * labels_data[i].shape[0]\n",
    "\n",
    "new_y = np.array(new_y)\n",
    "print(new_X.shape)\n",
    "print(new_y.shape)\n",
    "\n",
    "smenc = SMOTENC(categorical_features=[i for i in range(21)])\n",
    "\n",
    "new_X_smenc, new_y_smenc = smenc.fit_resample(new_X, new_y)\n",
    "\n",
    "print(new_X_smenc.shape)\n",
    "print(new_y_smenc.shape)\n",
    "\n",
    "labels_data_smenc = create_labels_data(new_X_smenc, new_y)\n",
    "for label in range(21):\n",
    "    labels_data_smenc[label] = np.array(labels_data_smenc[label])\n",
    "\n",
    "plot_save(labels_data_smenc, name=\"_augmented\")\n",
    "\n",
    "# np.save(\"./augmented_traindata\", new_X)\n",
    "# np.save(\"./augmented_trainlabels\", new_y)"
   ]
  },
  {
   "cell_type": "code",
   "execution_count": 13,
   "metadata": {},
   "outputs": [],
   "source": [
    "np.save(\"./augmented_traindata\", new_X_smenc)\n",
    "np.save(\"./augmented_trainlabels\", new_y_smenc)"
   ]
  },
  {
   "cell_type": "code",
   "execution_count": null,
   "metadata": {},
   "outputs": [],
   "source": []
  }
 ],
 "metadata": {
  "kernelspec": {
   "display_name": "base",
   "language": "python",
   "name": "python3"
  },
  "language_info": {
   "codemirror_mode": {
    "name": "ipython",
    "version": 3
   },
   "file_extension": ".py",
   "mimetype": "text/x-python",
   "name": "python",
   "nbconvert_exporter": "python",
   "pygments_lexer": "ipython3",
   "version": "3.12.2"
  }
 },
 "nbformat": 4,
 "nbformat_minor": 2
}
